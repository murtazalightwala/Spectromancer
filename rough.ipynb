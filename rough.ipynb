{
 "cells": [
  {
   "cell_type": "code",
   "execution_count": 41,
   "metadata": {},
   "outputs": [],
   "source": [
    "a = {1, 2, 3}"
   ]
  },
  {
   "cell_type": "code",
   "execution_count": 42,
   "metadata": {},
   "outputs": [],
   "source": [
    "a.remove(2)"
   ]
  },
  {
   "cell_type": "code",
   "execution_count": 75,
   "metadata": {},
   "outputs": [],
   "source": [
    "class A:\n",
    "    li = [1, 2, 3]\n",
    "\n",
    "    def set_li(self, li):\n",
    "        self.li = li\n",
    "\n",
    "    def summon_actions(self):\n",
    "        return self.li \n",
    "a = A()"
   ]
  },
  {
   "cell_type": "code",
   "execution_count": 76,
   "metadata": {},
   "outputs": [],
   "source": [
    "class Buff:\n",
    "    def apply_buff(self, target):\n",
    "        f = target.summon_actions\n",
    "        def _func():\n",
    "            li = f()\n",
    "            return [x*x for x in li]\n",
    "        setattr(target, \"summon_actions\", _func)"
   ]
  },
  {
   "cell_type": "code",
   "execution_count": 82,
   "metadata": {},
   "outputs": [],
   "source": [
    "A.li = [1, 2, 4]"
   ]
  },
  {
   "cell_type": "code",
   "execution_count": 83,
   "metadata": {},
   "outputs": [],
   "source": [
    "a = A()"
   ]
  },
  {
   "cell_type": "code",
   "execution_count": 84,
   "metadata": {},
   "outputs": [
    {
     "data": {
      "text/plain": [
       "[1, 2, 4]"
      ]
     },
     "execution_count": 84,
     "metadata": {},
     "output_type": "execute_result"
    }
   ],
   "source": [
    "a.li"
   ]
  },
  {
   "cell_type": "code",
   "execution_count": 80,
   "metadata": {},
   "outputs": [
    {
     "data": {
      "text/plain": [
       "[1, 4, 1, 4, 16, 4, 9]"
      ]
     },
     "execution_count": 80,
     "metadata": {},
     "output_type": "execute_result"
    }
   ],
   "source": [
    "a.summon_actions()"
   ]
  },
  {
   "cell_type": "code",
   "execution_count": 57,
   "metadata": {},
   "outputs": [
    {
     "name": "stdout",
     "output_type": "stream",
     "text": [
      "\n",
      "\n",
      "\n"
     ]
    }
   ],
   "source": [
    "class MyDecorator:\n",
    "    def __init__(self, function, *args):\n",
    "        print(*args)\n",
    "        self.function = function\n",
    "        self.count = 0\n",
    "        self.buff = []\n",
    "     \n",
    "    def __call__(self, *args, **kwargs):\n",
    "        self.count+=1\n",
    "        # We can add some code \n",
    "        # before function call\n",
    "        print(\"call ke pehle!!!!\")\n",
    "        self.function(self, *args, **kwargs)\n",
    "        print(\"call ke baad!!!\")\n",
    "        print(\"Count is {}, buffs are {}\".format(self.count, self.buff))\n",
    "\n",
    "    def add_buff(self, buff):\n",
    "        self.buff.append(buff)\n",
    " \n",
    "        # We can also add some code\n",
    "        # after function call.\n",
    " \n",
    "class A:\n",
    "    def __init__(self, *args) -> None:\n",
    "        print(*args)\n",
    " \n",
    "    @MyDecorator\n",
    "    def method(self):\n",
    "        print(\"hehe\")\n",
    "\n",
    "# adding class decorator to the function\n",
    "@MyDecorator\n",
    "def function():\n",
    "    print(\"GeeksforGeeks\")\n",
    "\n",
    "\n",
    "@MyDecorator\n",
    "def func():\n",
    "    print(\"GeekskiMKB!!!\")"
   ]
  },
  {
   "cell_type": "code",
   "execution_count": 58,
   "metadata": {},
   "outputs": [
    {
     "name": "stdout",
     "output_type": "stream",
     "text": [
      "\n"
     ]
    }
   ],
   "source": [
    "a = A()"
   ]
  },
  {
   "cell_type": "code",
   "execution_count": 59,
   "metadata": {},
   "outputs": [
    {
     "name": "stdout",
     "output_type": "stream",
     "text": [
      "call ke pehle!!!!\n",
      "hehe\n",
      "call ke baad!!!\n",
      "Count is 1, buffs are []\n"
     ]
    }
   ],
   "source": [
    "a.method()"
   ]
  },
  {
   "cell_type": "code",
   "execution_count": 43,
   "metadata": {},
   "outputs": [],
   "source": [
    "function.add_buff(1)\n",
    "function.add_buff(2)\n",
    "function.add_buff(4)\n",
    "func.add_buff(1)"
   ]
  },
  {
   "cell_type": "code",
   "execution_count": 173,
   "metadata": {},
   "outputs": [
    {
     "ename": "AttributeError",
     "evalue": "'property' object has no attribute 'buffs'",
     "output_type": "error",
     "traceback": [
      "\u001b[0;31m---------------------------------------------------------------------------\u001b[0m",
      "\u001b[0;31mAttributeError\u001b[0m                            Traceback (most recent call last)",
      "\u001b[1;32m/home/murtaza/Spectromancer/Spectromancer/rough.ipynb Cell 13\u001b[0m line \u001b[0;36m5\n\u001b[1;32m     <a href='vscode-notebook-cell:/home/murtaza/Spectromancer/Spectromancer/rough.ipynb#X15sZmlsZQ%3D%3D?line=51'>52</a>\u001b[0m         \u001b[39mreturn\u001b[39;00m _output\n\u001b[1;32m     <a href='vscode-notebook-cell:/home/murtaza/Spectromancer/Spectromancer/rough.ipynb#X15sZmlsZQ%3D%3D?line=52'>53</a>\u001b[0m     \u001b[39mreturn\u001b[39;00m _func\n\u001b[0;32m---> <a href='vscode-notebook-cell:/home/murtaza/Spectromancer/Spectromancer/rough.ipynb#X15sZmlsZQ%3D%3D?line=54'>55</a>\u001b[0m \u001b[39mclass\u001b[39;49;00m \u001b[39mT\u001b[39;49;00m:\n\u001b[1;32m     <a href='vscode-notebook-cell:/home/murtaza/Spectromancer/Spectromancer/rough.ipynb#X15sZmlsZQ%3D%3D?line=55'>56</a>\u001b[0m     x \u001b[39m=\u001b[39;49m \u001b[39m2\u001b[39;49m\n\u001b[1;32m     <a href='vscode-notebook-cell:/home/murtaza/Spectromancer/Spectromancer/rough.ipynb#X15sZmlsZQ%3D%3D?line=57'>58</a>\u001b[0m     \u001b[39m@PropertyBuffManager\u001b[39;49m\n\u001b[1;32m     <a href='vscode-notebook-cell:/home/murtaza/Spectromancer/Spectromancer/rough.ipynb#X15sZmlsZQ%3D%3D?line=58'>59</a>\u001b[0m     \u001b[39m@property\u001b[39;49m\n\u001b[1;32m     <a href='vscode-notebook-cell:/home/murtaza/Spectromancer/Spectromancer/rough.ipynb#X15sZmlsZQ%3D%3D?line=59'>60</a>\u001b[0m     \u001b[39mdef\u001b[39;49;00m \u001b[39my\u001b[39;49m(\u001b[39mself\u001b[39;49m):\n",
      "\u001b[1;32m/home/murtaza/Spectromancer/Spectromancer/rough.ipynb Cell 13\u001b[0m line \u001b[0;36m5\n\u001b[1;32m     <a href='vscode-notebook-cell:/home/murtaza/Spectromancer/Spectromancer/rough.ipynb#X15sZmlsZQ%3D%3D?line=54'>55</a>\u001b[0m \u001b[39mclass\u001b[39;00m \u001b[39mT\u001b[39;00m:\n\u001b[1;32m     <a href='vscode-notebook-cell:/home/murtaza/Spectromancer/Spectromancer/rough.ipynb#X15sZmlsZQ%3D%3D?line=55'>56</a>\u001b[0m     x \u001b[39m=\u001b[39m \u001b[39m2\u001b[39m\n\u001b[0;32m---> <a href='vscode-notebook-cell:/home/murtaza/Spectromancer/Spectromancer/rough.ipynb#X15sZmlsZQ%3D%3D?line=57'>58</a>\u001b[0m     \u001b[39m@PropertyBuffManager\u001b[39;49m\n\u001b[1;32m     <a href='vscode-notebook-cell:/home/murtaza/Spectromancer/Spectromancer/rough.ipynb#X15sZmlsZQ%3D%3D?line=58'>59</a>\u001b[0m     \u001b[39m@property\u001b[39;49m\n\u001b[1;32m     <a href='vscode-notebook-cell:/home/murtaza/Spectromancer/Spectromancer/rough.ipynb#X15sZmlsZQ%3D%3D?line=59'>60</a>\u001b[0m     \u001b[39mdef\u001b[39;49;00m \u001b[39my\u001b[39;49m(\u001b[39mself\u001b[39;49m):\n\u001b[1;32m     <a href='vscode-notebook-cell:/home/murtaza/Spectromancer/Spectromancer/rough.ipynb#X15sZmlsZQ%3D%3D?line=60'>61</a>\u001b[0m         \u001b[39mreturn\u001b[39;49;00m \u001b[39mself\u001b[39;49m\u001b[39m.\u001b[39;49mx \u001b[39m+\u001b[39;49m \u001b[39m1\u001b[39;49m\n\u001b[1;32m     <a href='vscode-notebook-cell:/home/murtaza/Spectromancer/Spectromancer/rough.ipynb#X15sZmlsZQ%3D%3D?line=62'>63</a>\u001b[0m     \u001b[39m@BuffManager\u001b[39m\n\u001b[1;32m     <a href='vscode-notebook-cell:/home/murtaza/Spectromancer/Spectromancer/rough.ipynb#X15sZmlsZQ%3D%3D?line=63'>64</a>\u001b[0m     \u001b[39mdef\u001b[39;00m \u001b[39mfn\u001b[39m(\u001b[39mself\u001b[39m, x):\n",
      "\u001b[1;32m/home/murtaza/Spectromancer/Spectromancer/rough.ipynb Cell 13\u001b[0m line \u001b[0;36m2\n\u001b[1;32m     <a href='vscode-notebook-cell:/home/murtaza/Spectromancer/Spectromancer/rough.ipynb#X15sZmlsZQ%3D%3D?line=21'>22</a>\u001b[0m \u001b[39mdef\u001b[39;00m \u001b[39m__init__\u001b[39m(\u001b[39mself\u001b[39m, \u001b[39mproperty\u001b[39m, \u001b[39m*\u001b[39margs, \u001b[39m*\u001b[39m\u001b[39m*\u001b[39mkwargs):\n\u001b[1;32m     <a href='vscode-notebook-cell:/home/murtaza/Spectromancer/Spectromancer/rough.ipynb#X15sZmlsZQ%3D%3D?line=22'>23</a>\u001b[0m     \u001b[39mself\u001b[39m \u001b[39m=\u001b[39m \u001b[39mproperty\u001b[39m\n\u001b[0;32m---> <a href='vscode-notebook-cell:/home/murtaza/Spectromancer/Spectromancer/rough.ipynb#X15sZmlsZQ%3D%3D?line=23'>24</a>\u001b[0m     \u001b[39mself\u001b[39;49m\u001b[39m.\u001b[39;49mbuffs \u001b[39m=\u001b[39m \u001b[39mset\u001b[39m()\n",
      "\u001b[0;31mAttributeError\u001b[0m: 'property' object has no attribute 'buffs'"
     ]
    }
   ],
   "source": [
    "from typing import Any\n",
    "\n",
    "\n",
    "class BuffManager:\n",
    "    def __init__(self, function, *args, **kwargs):\n",
    "        self.function = function\n",
    "        self.buffs = set()\n",
    "\n",
    "    def add_buff(self, buff, *args, **kwargs):\n",
    "        self.buffs.add(buff)\n",
    "    \n",
    "    def remove_buff(self, buff, *args, **kwargs):\n",
    "        self.buffs.remove(buff)\n",
    "\n",
    "    def __call__(self, *args, **kwargs):\n",
    "        x = self.function\n",
    "        for item in self.buffs:\n",
    "            x = item(x)\n",
    "        return x(self, *args, **kwargs)\n",
    "\n",
    "class PropertyBuffManager(BuffManager, property):\n",
    "    def __init__(self, property, *args, **kwargs):\n",
    "        self.property = property\n",
    "        self.buffs = set()\n",
    "\n",
    "    def __getattribute__(self, __name: str) -> Any:\n",
    "        return self.property.__getattribute__(__name)\n",
    "def f1(func):\n",
    "\n",
    "    def _func(_obj, x, *args, **kwargs):\n",
    "        print(\"Pre f1, adding 1\")\n",
    "        _output = func(_obj, x + 1, *args, **kwargs)\n",
    "        print(\"Post f1, printing output\", _output)\n",
    "        return _output\n",
    "    return _func\n",
    "    \n",
    "\n",
    "def f2(func):\n",
    "    def _func(_obj, x, *args, **kwargs):\n",
    "        print(\"Pre f2, adding 4\")\n",
    "        _output = func(_obj, x + 4, *args, **kwargs)\n",
    "        print(\"Post f2, printing output\", _output)\n",
    "        return _output\n",
    "    return _func\n",
    "\n",
    "def f3(func):\n",
    "    def _func(_obj, x, *args, **kwargs):\n",
    "        print(\"Pre f3, doing nothing\")\n",
    "        _output = func(_obj, x, *args, **kwargs)\n",
    "        print(\"Post f3, multiplying output by 5\")\n",
    "        _output *= 5\n",
    "        return _output\n",
    "    return _func\n",
    "\n",
    "class T:\n",
    "    x = 2\n",
    "\n",
    "    @PropertyBuffManager\n",
    "    @property\n",
    "    def y(self):\n",
    "        return self.x + 1\n",
    "    \n",
    "    @BuffManager\n",
    "    def fn(self, x):\n",
    "        return x    \n",
    "\n",
    "class Q(T):\n",
    "    def fn(self, x):\n",
    "        return x + 1"
   ]
  },
  {
   "cell_type": "code",
   "execution_count": 170,
   "metadata": {},
   "outputs": [
    {
     "data": {
      "text/plain": [
       "<__main__.PropertyBuffManager at 0x7f78125790>"
      ]
     },
     "execution_count": 170,
     "metadata": {},
     "output_type": "execute_result"
    }
   ],
   "source": [
    "t = Q()\n",
    "t.y"
   ]
  },
  {
   "cell_type": "code",
   "execution_count": 168,
   "metadata": {},
   "outputs": [
    {
     "ename": "AttributeError",
     "evalue": "'int' object has no attribute 'fget'",
     "output_type": "error",
     "traceback": [
      "\u001b[0;31m---------------------------------------------------------------------------\u001b[0m",
      "\u001b[0;31mAttributeError\u001b[0m                            Traceback (most recent call last)",
      "\u001b[1;32m/home/murtaza/Spectromancer/Spectromancer/rough.ipynb Cell 15\u001b[0m line \u001b[0;36m1\n\u001b[0;32m----> <a href='vscode-notebook-cell:/home/murtaza/Spectromancer/Spectromancer/rough.ipynb#X20sZmlsZQ%3D%3D?line=0'>1</a>\u001b[0m t\u001b[39m.\u001b[39;49my\u001b[39m.\u001b[39;49mfget\u001b[39m.\u001b[39madd_buff(f1)\n\u001b[1;32m      <a href='vscode-notebook-cell:/home/murtaza/Spectromancer/Spectromancer/rough.ipynb#X20sZmlsZQ%3D%3D?line=2'>3</a>\u001b[0m t\u001b[39m.\u001b[39mfn(\u001b[39m2\u001b[39m)\n",
      "\u001b[0;31mAttributeError\u001b[0m: 'int' object has no attribute 'fget'"
     ]
    }
   ],
   "source": []
  },
  {
   "cell_type": "code",
   "execution_count": 147,
   "metadata": {},
   "outputs": [
    {
     "name": "stdout",
     "output_type": "stream",
     "text": [
      "Pre f2, adding 4\n",
      "Pre f1, adding 1\n",
      "Post f1, printing output 7\n",
      "Post f2, printing output 7\n"
     ]
    },
    {
     "data": {
      "text/plain": [
       "7"
      ]
     },
     "execution_count": 147,
     "metadata": {},
     "output_type": "execute_result"
    }
   ],
   "source": [
    "t.fn.add_buff(f2)\n",
    "t.fn(2)"
   ]
  },
  {
   "cell_type": "code",
   "execution_count": 148,
   "metadata": {},
   "outputs": [
    {
     "name": "stdout",
     "output_type": "stream",
     "text": [
      "Pre f2, adding 4\n",
      "Pre f1, adding 1\n",
      "Post f1, printing output 7\n",
      "Post f2, printing output 7\n"
     ]
    },
    {
     "data": {
      "text/plain": [
       "7"
      ]
     },
     "execution_count": 148,
     "metadata": {},
     "output_type": "execute_result"
    }
   ],
   "source": [
    "\n",
    "t.fn(2)"
   ]
  },
  {
   "cell_type": "code",
   "execution_count": null,
   "metadata": {},
   "outputs": [],
   "source": []
  }
 ],
 "metadata": {
  "kernelspec": {
   "display_name": "Python 3 (ipykernel)",
   "language": "python",
   "name": "python3"
  },
  "language_info": {
   "codemirror_mode": {
    "name": "ipython",
    "version": 3
   },
   "file_extension": ".py",
   "mimetype": "text/x-python",
   "name": "python",
   "nbconvert_exporter": "python",
   "pygments_lexer": "ipython3",
   "version": "3.11.5"
  },
  "orig_nbformat": 4
 },
 "nbformat": 4,
 "nbformat_minor": 2
}
