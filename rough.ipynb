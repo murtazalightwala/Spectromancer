{
 "cells": [
  {
   "cell_type": "code",
   "execution_count": 41,
   "metadata": {},
   "outputs": [],
   "source": [
    "a = {1, 2, 3}"
   ]
  },
  {
   "cell_type": "code",
   "execution_count": 42,
   "metadata": {},
   "outputs": [],
   "source": [
    "a.remove(2)"
   ]
  },
  {
   "cell_type": "code",
   "execution_count": 75,
   "metadata": {},
   "outputs": [],
   "source": [
    "class A:\n",
    "    li = [1, 2, 3]\n",
    "\n",
    "    def set_li(self, li):\n",
    "        self.li = li\n",
    "\n",
    "    def summon_actions(self):\n",
    "        return self.li \n",
    "a = A()"
   ]
  },
  {
   "cell_type": "code",
   "execution_count": 76,
   "metadata": {},
   "outputs": [],
   "source": [
    "class Buff:\n",
    "    def apply_buff(self, target):\n",
    "        f = target.summon_actions\n",
    "        def _func():\n",
    "            li = f()\n",
    "            return [x*x for x in li]\n",
    "        setattr(target, \"summon_actions\", _func)"
   ]
  },
  {
   "cell_type": "code",
   "execution_count": 82,
   "metadata": {},
   "outputs": [],
   "source": [
    "A.li = [1, 2, 4]"
   ]
  },
  {
   "cell_type": "code",
   "execution_count": 83,
   "metadata": {},
   "outputs": [],
   "source": [
    "a = A()"
   ]
  },
  {
   "cell_type": "code",
   "execution_count": 84,
   "metadata": {},
   "outputs": [
    {
     "data": {
      "text/plain": [
       "[1, 2, 4]"
      ]
     },
     "execution_count": 84,
     "metadata": {},
     "output_type": "execute_result"
    }
   ],
   "source": [
    "a.li"
   ]
  },
  {
   "cell_type": "code",
   "execution_count": 80,
   "metadata": {},
   "outputs": [
    {
     "data": {
      "text/plain": [
       "[1, 4, 1, 4, 16, 4, 9]"
      ]
     },
     "execution_count": 80,
     "metadata": {},
     "output_type": "execute_result"
    }
   ],
   "source": [
    "a.summon_actions()"
   ]
  },
  {
   "cell_type": "code",
   "execution_count": 375,
   "metadata": {},
   "outputs": [
    {
     "name": "stdout",
     "output_type": "stream",
     "text": [
      "\n",
      "\n",
      "\n"
     ]
    }
   ],
   "source": [
    "class MyDecorator:\n",
    "    def __init__(self, function, *args):\n",
    "        print(*args)\n",
    "        self.function = function\n",
    "        self.count = 0\n",
    "        self.buff = []\n",
    "     \n",
    "    def __call__(self, *args, **kwargs):\n",
    "        self.count+=1\n",
    "        # We can add some code \n",
    "        # before function call\n",
    "        print(\"call ke pehle!!!!\")\n",
    "        self.function(self, *args, **kwargs)\n",
    "        print(\"call ke baad!!!\")\n",
    "        print(\"Count is {}, buffs are {}\".format(self.count, self.buff))\n",
    "\n",
    "    def add_buff(self, buff):\n",
    "        self.buff.append(buff)\n",
    " \n",
    "        # We can also add some code\n",
    "        # after function call.\n",
    " \n",
    "class A:\n",
    "    def __init__(self, *args) -> None:\n",
    "        print(*args)\n",
    " \n",
    "    @MyDecorator\n",
    "    def method(self):\n",
    "        print(\"hehe\")\n",
    "\n",
    "# adding class decorator to the function\n",
    "@MyDecorator\n",
    "def function():\n",
    "    print(\"GeeksforGeeks\")\n",
    "\n",
    "\n",
    "@MyDecorator\n",
    "def func():\n",
    "    print(\"GeekskiMKB!!!\")"
   ]
  },
  {
   "cell_type": "code",
   "execution_count": 376,
   "metadata": {},
   "outputs": [
    {
     "name": "stdout",
     "output_type": "stream",
     "text": [
      "\n"
     ]
    }
   ],
   "source": [
    "a = A()"
   ]
  },
  {
   "cell_type": "code",
   "execution_count": 377,
   "metadata": {},
   "outputs": [
    {
     "name": "stdout",
     "output_type": "stream",
     "text": [
      "call ke pehle!!!!\n",
      "hehe\n",
      "call ke baad!!!\n",
      "Count is 1, buffs are []\n"
     ]
    }
   ],
   "source": [
    "a.method()"
   ]
  },
  {
   "cell_type": "code",
   "execution_count": 43,
   "metadata": {},
   "outputs": [],
   "source": [
    "function.add_buff(1)\n",
    "function.add_buff(2)\n",
    "function.add_buff(4)\n",
    "func.add_buff(1)"
   ]
  },
  {
   "cell_type": "code",
   "execution_count": 443,
   "metadata": {},
   "outputs": [
    {
     "name": "stdout",
     "output_type": "stream",
     "text": [
      "property hai!!!!\n"
     ]
    }
   ],
   "source": [
    "from typing import Any\n",
    "\n",
    "\n",
    "class BuffManager:\n",
    "\n",
    "    def __init__(self, function, instance = None, *args, **kwargs):\n",
    "        self.function = function\n",
    "        if instance is not None:\n",
    "            self.instance = instance\n",
    "            self.buffs = list()\n",
    "        else:\n",
    "            self.instances = {}\n",
    "        self.is_property = False\n",
    "        if isinstance(self.function, property):\n",
    "            self.is_property = True\n",
    "        \n",
    "\n",
    "    def get_or_create_instance(self, _obj, *args, **kwargs):\n",
    "        if _obj not in self.instances:\n",
    "            self.instances[_obj] = BuffManager(self.function, _obj)\n",
    "        return self.instances[_obj]\n",
    "\n",
    "\n",
    "    def __get__(self, instance, owner):\n",
    "        if instance is None:\n",
    "            return self\n",
    "        print(\"Call hota bhai!!!\")\n",
    "        return self.get_or_create_instance(instance)\n",
    "        \n",
    "\n",
    "    def add_buff( self, buff, _obj = None, *args, **kwargs):\n",
    "        if _obj == None:\n",
    "            _obj = self\n",
    "        _obj.buffs.append(buff)\n",
    "        \n",
    "    def remove_buff(self, buff, _obj = None, *args, **kwargs):\n",
    "        if _obj == None:\n",
    "            _obj = self\n",
    "        _obj.buffs.remove(buff)\n",
    "\n",
    "    def __call__(self, *args, **kwargs):\n",
    "        \n",
    "        f = self.function\n",
    "        for item in self.buffs:\n",
    "            f = item(f)\n",
    "        return f(self.instance,*args, **kwargs)\n",
    "        \n",
    "def managed_by_buff(function, *args, **kwargs):\n",
    "    if isinstance(function, property):\n",
    "        print(\"property hai!!!!\")\n",
    "        buff_manager = PropertyBuffManager(function)\n",
    "    else:\n",
    "        buff_manager = BuffManager(function)\n",
    "    return buff_manager\n",
    "\n",
    "class PropertyBuffManager(BuffManager):\n",
    "    def __get__(self, instance, owner):\n",
    "        print(\"This is called!!!!\", owner)\n",
    "        print(instance)\n",
    "        if instance is None:\n",
    "            return self\n",
    "        return self.get_or_create_instance(instance).function.fget(instance)\n",
    "\n",
    "def f1(func):\n",
    "\n",
    "    def _func(_obj, x, *args, **kwargs):\n",
    "        print(\"Pre f1, adding 1\")\n",
    "        _output = func(_obj, x + 1, *args, **kwargs)\n",
    "        print(\"Post f1, printing output\", _output)\n",
    "        return _output\n",
    "    return _func\n",
    "    \n",
    "\n",
    "def f2(func):\n",
    "    def _func(_obj, x, *args, **kwargs):\n",
    "        print(\"Pre f2, adding 4\")\n",
    "        _output = func(_obj, x + 4, *args, **kwargs)\n",
    "        print(\"Post f2, printing output\", _output)\n",
    "        return _output\n",
    "    return _func\n",
    "\n",
    "def f3(func):\n",
    "    def _func(_obj, x, *args, **kwargs):\n",
    "        print(\"Pre f3, doing nothing\")\n",
    "        _output = func(_obj, x, *args, **kwargs)\n",
    "        print(\"Post f3, multiplying output by 5\")\n",
    "        _output *= 5\n",
    "        return _output\n",
    "    return _func\n",
    "\n",
    "def property_f1(func):\n",
    "\n",
    "    def _func(_obj, x, *args, **kwargs):\n",
    "        print(\"Pre f1, adding 1\")\n",
    "        _output = func(_obj, x + 1, *args, **kwargs)\n",
    "        print(\"Post f1, printing output\", _output)\n",
    "        return _output\n",
    "    return _func\n",
    "    \n",
    "\n",
    "def f2(func):\n",
    "    def _func(_obj, x, *args, **kwargs):\n",
    "        print(\"Pre f2, adding 4\")\n",
    "        _output = func(_obj, x + 4, *args, **kwargs)\n",
    "        print(\"Post f2, printing output\", _output)\n",
    "        return _output\n",
    "    return _func\n",
    "\n",
    "def f3(func):\n",
    "    def _func(_obj, x, *args, **kwargs):\n",
    "        print(\"Pre f3, doing nothing\")\n",
    "        _output = func(_obj, x, *args, **kwargs)\n",
    "        print(\"Post f3, multiplying output by 5\")\n",
    "        _output *= 5\n",
    "        return _output\n",
    "    return _func\n",
    "\n",
    "\n",
    "class T:\n",
    "    x = 2\n",
    "\n",
    "    @managed_by_buff\n",
    "    @property\n",
    "    def y(self):\n",
    "        return self.x + 1\n",
    "    \n",
    "    @managed_by_buff\n",
    "    def fn(self, x):\n",
    "        return x    \n",
    "\n",
    "class Q(T):\n",
    "    pass"
   ]
  },
  {
   "cell_type": "code",
   "execution_count": 444,
   "metadata": {},
   "outputs": [
    {
     "name": "stdout",
     "output_type": "stream",
     "text": [
      "Call hota bhai!!!\n"
     ]
    },
    {
     "data": {
      "text/plain": [
       "<__main__.BuffManager at 0x7f5e807390>"
      ]
     },
     "execution_count": 444,
     "metadata": {},
     "output_type": "execute_result"
    }
   ],
   "source": [
    "t = Q()\n",
    "q = Q()\n",
    "t.fn"
   ]
  },
  {
   "cell_type": "code",
   "execution_count": 447,
   "metadata": {},
   "outputs": [
    {
     "name": "stdout",
     "output_type": "stream",
     "text": [
      "This is called!!!! <class '__main__.Q'>\n",
      "<__main__.Q object at 0x7f5c9b70d0>\n"
     ]
    },
    {
     "data": {
      "text/plain": [
       "3"
      ]
     },
     "execution_count": 447,
     "metadata": {},
     "output_type": "execute_result"
    }
   ],
   "source": [
    "t.y"
   ]
  },
  {
   "cell_type": "code",
   "execution_count": 446,
   "metadata": {},
   "outputs": [
    {
     "name": "stdout",
     "output_type": "stream",
     "text": [
      "This is called!!!! <class '__main__.T'>\n",
      "None\n",
      "This is called!!!! <class '__main__.T'>\n",
      "None\n"
     ]
    }
   ],
   "source": [
    "T.y.add_buff(f1, T.y.get_or_create_instance(t))"
   ]
  },
  {
   "cell_type": "code",
   "execution_count": 450,
   "metadata": {},
   "outputs": [
    {
     "name": "stdout",
     "output_type": "stream",
     "text": [
      "This is called!!!! <class '__main__.T'>\n",
      "None\n"
     ]
    },
    {
     "data": {
      "text/plain": [
       "[<function __main__.f1(func)>]"
      ]
     },
     "execution_count": 450,
     "metadata": {},
     "output_type": "execute_result"
    }
   ],
   "source": [
    "T.y.get_or_create_instance(t).buffs"
   ]
  },
  {
   "cell_type": "code",
   "execution_count": 452,
   "metadata": {},
   "outputs": [
    {
     "name": "stdout",
     "output_type": "stream",
     "text": [
      "This is called!!!! <class '__main__.T'>\n",
      "None\n"
     ]
    },
    {
     "data": {
      "text/plain": [
       "[]"
      ]
     },
     "execution_count": 452,
     "metadata": {},
     "output_type": "execute_result"
    }
   ],
   "source": [
    "T.y.get_or_create_instance(q).buffs"
   ]
  },
  {
   "cell_type": "code",
   "execution_count": 429,
   "metadata": {},
   "outputs": [
    {
     "name": "stdout",
     "output_type": "stream",
     "text": [
      "Call hota bhai!!!\n"
     ]
    }
   ],
   "source": [
    "t.fn.add_buff(f2)"
   ]
  },
  {
   "cell_type": "code",
   "execution_count": 335,
   "metadata": {},
   "outputs": [
    {
     "name": "stdout",
     "output_type": "stream",
     "text": [
      "Called Get\n",
      "Returning instance object for  <__main__.Q object at 0x7f809af310>\n"
     ]
    },
    {
     "ename": "ValueError",
     "evalue": "list.remove(x): x not in list",
     "output_type": "error",
     "traceback": [
      "\u001b[0;31m---------------------------------------------------------------------------\u001b[0m",
      "\u001b[0;31mValueError\u001b[0m                                Traceback (most recent call last)",
      "\u001b[1;32m/home/murtaza/Spectromancer/Spectromancer/rough.ipynb Cell 18\u001b[0m line \u001b[0;36m1\n\u001b[0;32m----> <a href='vscode-notebook-cell:/home/murtaza/Spectromancer/Spectromancer/rough.ipynb#X30sZmlsZQ%3D%3D?line=0'>1</a>\u001b[0m t\u001b[39m.\u001b[39;49mfn\u001b[39m.\u001b[39;49mremove_buff(f1)\n",
      "\u001b[1;32m/home/murtaza/Spectromancer/Spectromancer/rough.ipynb Cell 18\u001b[0m line \u001b[0;36m3\n\u001b[1;32m     <a href='vscode-notebook-cell:/home/murtaza/Spectromancer/Spectromancer/rough.ipynb#X30sZmlsZQ%3D%3D?line=28'>29</a>\u001b[0m \u001b[39mdef\u001b[39;00m \u001b[39mremove_buff\u001b[39m(\u001b[39mself\u001b[39m, buff, \u001b[39m*\u001b[39margs, \u001b[39m*\u001b[39m\u001b[39m*\u001b[39mkwargs):\n\u001b[0;32m---> <a href='vscode-notebook-cell:/home/murtaza/Spectromancer/Spectromancer/rough.ipynb#X30sZmlsZQ%3D%3D?line=29'>30</a>\u001b[0m     \u001b[39mself\u001b[39;49m\u001b[39m.\u001b[39;49mbuffs\u001b[39m.\u001b[39;49mremove(buff)\n",
      "\u001b[0;31mValueError\u001b[0m: list.remove(x): x not in list"
     ]
    }
   ],
   "source": [
    "t.fn.remove_buff(f1)"
   ]
  },
  {
   "cell_type": "code",
   "execution_count": 428,
   "metadata": {},
   "outputs": [
    {
     "name": "stdout",
     "output_type": "stream",
     "text": [
      "Call hota bhai!!!\n"
     ]
    },
    {
     "data": {
      "text/plain": [
       "[<function __main__.f2(func)>]"
      ]
     },
     "execution_count": 428,
     "metadata": {},
     "output_type": "execute_result"
    }
   ],
   "source": [
    "q.fn.buffs"
   ]
  },
  {
   "cell_type": "code",
   "execution_count": 430,
   "metadata": {},
   "outputs": [
    {
     "name": "stdout",
     "output_type": "stream",
     "text": [
      "Call hota bhai!!!\n"
     ]
    },
    {
     "data": {
      "text/plain": [
       "[<function __main__.f2(func)>]"
      ]
     },
     "execution_count": 430,
     "metadata": {},
     "output_type": "execute_result"
    }
   ],
   "source": [
    "t.fn.buffs"
   ]
  },
  {
   "cell_type": "code",
   "execution_count": 41,
   "metadata": {},
   "outputs": [
    {
     "data": {
      "text/plain": [
       "{<function __main__.f1(func)>}"
      ]
     },
     "execution_count": 41,
     "metadata": {},
     "output_type": "execute_result"
    }
   ],
   "source": [
    "q.fn.buffs"
   ]
  },
  {
   "cell_type": "code",
   "execution_count": 242,
   "metadata": {},
   "outputs": [
    {
     "data": {
      "text/plain": [
       "['__annotations__',\n",
       " '__builtins__',\n",
       " '__call__',\n",
       " '__class__',\n",
       " '__closure__',\n",
       " '__code__',\n",
       " '__defaults__',\n",
       " '__delattr__',\n",
       " '__dict__',\n",
       " '__dir__',\n",
       " '__doc__',\n",
       " '__eq__',\n",
       " '__format__',\n",
       " '__ge__',\n",
       " '__get__',\n",
       " '__getattribute__',\n",
       " '__getstate__',\n",
       " '__globals__',\n",
       " '__gt__',\n",
       " '__hash__',\n",
       " '__init__',\n",
       " '__init_subclass__',\n",
       " '__kwdefaults__',\n",
       " '__le__',\n",
       " '__lt__',\n",
       " '__module__',\n",
       " '__name__',\n",
       " '__ne__',\n",
       " '__new__',\n",
       " '__qualname__',\n",
       " '__reduce__',\n",
       " '__reduce_ex__',\n",
       " '__repr__',\n",
       " '__setattr__',\n",
       " '__sizeof__',\n",
       " '__str__',\n",
       " '__subclasshook__']"
      ]
     },
     "execution_count": 242,
     "metadata": {},
     "output_type": "execute_result"
    }
   ],
   "source": [
    "\n",
    "dir(t.fn.function)"
   ]
  },
  {
   "cell_type": "code",
   "execution_count": 267,
   "metadata": {},
   "outputs": [
    {
     "data": {
      "text/plain": [
       "<__main__.BuffManager at 0x7f5e909610>"
      ]
     },
     "execution_count": 267,
     "metadata": {},
     "output_type": "execute_result"
    }
   ],
   "source": [
    "getattr(t, t.fn.function.__name__)"
   ]
  },
  {
   "cell_type": "code",
   "execution_count": 467,
   "metadata": {},
   "outputs": [
    {
     "data": {
      "text/plain": [
       "<function __main__.T.fn(self, x)>"
      ]
     },
     "execution_count": 467,
     "metadata": {},
     "output_type": "execute_result"
    }
   ],
   "source": [
    "\n",
    "q.fn.function"
   ]
  },
  {
   "cell_type": "code",
   "execution_count": null,
   "metadata": {},
   "outputs": [],
   "source": [
    "t.\n",
    "\n",
    "\n"
   ]
  }
 ],
 "metadata": {
  "kernelspec": {
   "display_name": "Python 3 (ipykernel)",
   "language": "python",
   "name": "python3"
  },
  "language_info": {
   "codemirror_mode": {
    "name": "ipython",
    "version": 3
   },
   "file_extension": ".py",
   "mimetype": "text/x-python",
   "name": "python",
   "nbconvert_exporter": "python",
   "pygments_lexer": "ipython3",
   "version": "3.11.5"
  },
  "orig_nbformat": 4
 },
 "nbformat": 4,
 "nbformat_minor": 2
}
